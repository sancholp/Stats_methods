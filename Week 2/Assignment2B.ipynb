{
 "cells": [
  {
   "cell_type": "code",
   "execution_count": 20,
   "id": "c7f5885b",
   "metadata": {},
   "outputs": [],
   "source": [
    "import numpy as np\n",
    "import matplotlib.pyplot as plt\n",
    "import scipy.stats as sps\n",
    "import scipy.optimize as spopt\n",
    "import scipy.integrate as spint\n",
    "import scipy.interpolate as spinterp\n",
    "import pandas as pd"
   ]
  },
  {
   "cell_type": "markdown",
   "id": "fe6a8044",
   "metadata": {},
   "source": [
    "#### 1. \n",
    "\n",
    "*Approach:* In order to speed up the loading process, only relevant columns will be read. After removing all rows with NaNs in them, I select the stars that are members of NGC2506, and plot them in a color-color diagram."
   ]
  },
  {
   "cell_type": "code",
   "execution_count": null,
   "id": "8daa574e",
   "metadata": {},
   "outputs": [],
   "source": [
    "# only load in relevant columns\n",
    "col_list = ['plx', 'e_plx', 'Gmag', 'BP-RP', 'Cluster', 'PMemb']\n",
    "gaia_raw =  pd.read_csv('cluster_members.txt', delim_whitespace=True, engine='python',\n",
    "                        header=0, index_col=False, na_values='---', usecols=col_list)"
   ]
  },
  {
   "cell_type": "code",
   "execution_count": null,
   "id": "790c360b",
   "metadata": {},
   "outputs": [],
   "source": [
    "display(gaia_raw)"
   ]
  },
  {
   "cell_type": "code",
   "execution_count": null,
   "id": "b7276b92",
   "metadata": {},
   "outputs": [],
   "source": [
    "# remove all stars with NaN values\n",
    "gaia_clean = gaia_raw[:].dropna(how=\"any\")\n",
    "print(gaia_clean.shape)"
   ]
  },
  {
   "cell_type": "code",
   "execution_count": null,
   "id": "88d50c0f",
   "metadata": {},
   "outputs": [],
   "source": [
    "# choose only stars which are for sure members of the cluster\n",
    "NGC2506 = gaia_clean[gaia_clean.Cluster=='NGC_2506']\n",
    "NGC2506 = NGC2506[NGC2506.PMemb==1]\n",
    "print(NGC2506.shape)"
   ]
  },
  {
   "cell_type": "code",
   "execution_count": null,
   "id": "f1c5b00f",
   "metadata": {
    "scrolled": false
   },
   "outputs": [],
   "source": [
    "# plot color-color diagram\n",
    "fig = plt.figure(figsize=(8,6))\n",
    "plt.scatter(NGC2506['BP-RP'], NGC2506.Gmag,  marker='.', alpha=0.3)\n",
    "plt.gca().invert_yaxis()\n",
    "plt.title('Gmag vs. BP-RP for NGC2506')\n",
    "plt.ylabel('G magnitude')\n",
    "plt.xlabel('BP-RP color')\n",
    "plt.show()"
   ]
  },
  {
   "cell_type": "markdown",
   "id": "44269be4",
   "metadata": {},
   "source": [
    "*Conclusion:* \n",
    "Here we can clearly see the stars in the cluster that are still in the MS stage, as well as some stars that have turned-off the MS, and are moving towards, or ar at the RGB. A few blue stragglers are also visible on the leftmost part of the diagram."
   ]
  },
  {
   "cell_type": "markdown",
   "id": "a2b61f80",
   "metadata": {},
   "source": [
    "#### 2.\n",
    "\n",
    "*Approach:* First, I plot the parallax vs. the Gmag. To get their correlation, I run two correlation tests, Pearson's r and Spearman's rho (see assumptions bellow). Pearson's r will test for linear correlation in the data, while Spearman's rho will check if the data are monotonically related. Together, these two values should give reasonable evidence for the correlation or non-correlation of the data."
   ]
  },
  {
   "cell_type": "code",
   "execution_count": null,
   "id": "3deebbce",
   "metadata": {
    "scrolled": false
   },
   "outputs": [],
   "source": [
    "fig = plt.figure(figsize=(8,6))\n",
    "plt.scatter(NGC2506.Gmag, NGC2506.plx, marker='.', alpha=0.3)\n",
    "plt.gca().invert_yaxis()\n",
    "plt.title('Parallax vs. Gmag for NGC2506')\n",
    "plt.xlabel('G magnitude')\n",
    "plt.ylabel('Parallax (mas)')\n",
    "plt.show()"
   ]
  },
  {
   "cell_type": "markdown",
   "id": "896e218a",
   "metadata": {},
   "source": [
    "*Explanation:* The reason for the inverted cone shape is that there are more small stars (weaker G magnitude) than heavy stars, following the IMF. Thus there are more stars on the right side of the diagram than ont he left. Furthermore, lighter stars live longer than heavy stars, and so have more time to drift away from the cluster's center before they die. Hence we see more stars that are further from the center on the light (right) side of the diagram than on the heavy (left) side. This explains the cone shape. Furthermore, dimmer values might carry a greater measurement uncertainty, so that can contribute to the cone shape as well."
   ]
  },
  {
   "cell_type": "code",
   "execution_count": null,
   "id": "d5852bf2",
   "metadata": {},
   "outputs": [],
   "source": [
    "def correl_stats(data_a, data_b, only_r=False):\n",
    "    '''Runs Pearson's r and Spearman's rho tests on provided data'''\n",
    "    (rcor, rpval) = sps.pearsonr(data_a, data_b)\n",
    "    (rhocor, rhopval) = sps.spearmanr(data_a, data_b)\n",
    "    \n",
    "    print(f\"Pearson's r and p-value: {rcor}, {rpval}\")\n",
    "    if not only_r:\n",
    "        print(f\"Spearman's rho and p-value: {rhocor}, {rhopval}\")"
   ]
  },
  {
   "cell_type": "markdown",
   "id": "3e70e4e6",
   "metadata": {},
   "source": [
    "*Assumptions:* Both the G magnitude and the parallaxes are independent and identically distributed. However, they are not exactly identically distributed, since the variance of the parallax seem to be dependent on the Gmag (as previously discussed, the parallax spread becomes higher for higher Gmag). However, the data clearly belong to one population, not two, and the distribution is just cone-shaped. Thus we can make the assumptions, keeping this in mind."
   ]
  },
  {
   "cell_type": "code",
   "execution_count": null,
   "id": "6d78a9b6",
   "metadata": {},
   "outputs": [],
   "source": [
    "# Null hypothesis: The Gmag and paralax for the cluster are not correlated\n",
    "# Recquired: p > 0.05 for both tests\n",
    "\n",
    "correl_stats(NGC2506.Gmag, NGC2506.plx)"
   ]
  },
  {
   "cell_type": "markdown",
   "id": "127c1d8d",
   "metadata": {},
   "source": [
    "The p value is higher than recquired for both tests, thus the null hypothesis cannot be rejected. There is no correlation between the Gmag and the parallax. "
   ]
  },
  {
   "cell_type": "markdown",
   "id": "5fbb14b0",
   "metadata": {},
   "source": [
    "#### 3.\n",
    "\n",
    "*Approach:* Create a function similar to that of Week 1A's assignment for calculating the value of gravity from the period of the pendulum. However, instead of having the value of gravity and the period as parameters, here we use the distance and the paralax. Also, to create the p_array, we apply the $p=1/d$ formula."
   ]
  },
  {
   "cell_type": "code",
   "execution_count": null,
   "id": "6dd854fc",
   "metadata": {},
   "outputs": [],
   "source": [
    "# correction for zero-point offset\n",
    "NGC2506.plx += 0.029"
   ]
  },
  {
   "cell_type": "code",
   "execution_count": null,
   "id": "f38f6ae1",
   "metadata": {},
   "outputs": [],
   "source": [
    "def calc_posterior(plxs, errors_p, d_range):\n",
    "    '''Calculates posterior distribution of supplied paralaxes and errors. Also plots 1-sigma confidence interval'''\n",
    "    # distance range to calculate posterior for (in kpc)\n",
    "    d_i, d_f = d_range[0], d_range[1] #3., 3.3\n",
    "    # parameter array\n",
    "    d_array = np.linspace(d_i, d_f, 5000)\n",
    "    p_array = 1/d_array\n",
    "    \n",
    "    # prior is uniform distribution\n",
    "    prior = 1/(d_f-d_i)\n",
    "    \n",
    "    # distribution of measurements from normal with error as sigma\n",
    "    d_dist = sps.norm(loc=p_array.reshape(len(p_array),1), scale=errors_p)\n",
    "\n",
    "    # in order to take product, we add logs in order to avoid problems of division by 0\n",
    "    log_likel_prior = np.sum(np.log(d_dist.pdf(plxs)), axis=1) + np.log(prior)\n",
    "    likel_prior = np.exp(log_likel_prior-np.amax(log_likel_prior))\n",
    "    likel_prior_int = spint.simpson(likel_prior, d_array, axis=0)\n",
    "\n",
    "    posterior_pdf = likel_prior/likel_prior_int\n",
    "    # for calculating confidence intervals\n",
    "    posterior_cdf = spint.cumulative_trapezoid(posterior_pdf, d_array ,initial=0)\n",
    "    posterior_ppf = spinterp.interp1d(posterior_cdf, d_array)\n",
    "\n",
    "    int68 = posterior_ppf([0.159, 0.841])\n",
    "    print('Distance in kpc:', d_array[np.argmax(posterior_pdf)], 'with 1-sig interval:', int68)\n",
    "    \n",
    "    plt.figure()\n",
    "    plt.plot(d_array, posterior_pdf)\n",
    "    plt.vlines(int68,ymin=0,ymax=np.amax(posterior_pdf),color='black',linestyle='dotted')\n",
    "    plt.xlabel('Distance (kpc)',fontsize=12)\n",
    "    plt.ylabel(r'Posterior density',fontsize=12)\n",
    "    plt.show()"
   ]
  },
  {
   "cell_type": "code",
   "execution_count": null,
   "id": "e8ee02f2",
   "metadata": {},
   "outputs": [],
   "source": [
    "calc_posterior(NGC2506.plx, NGC2506.e_plx, [3,3.3])"
   ]
  },
  {
   "cell_type": "markdown",
   "id": "1a766b22",
   "metadata": {},
   "source": [
    "#### 4.\n",
    "\n",
    "*Approach:* Pick a cluster with a high number of stars (and that looks pretty in the color-color plot), and find the distance from the posterior distribution. With this distance, find the absolute magnitude, and plot it together with NGC2506 in a color-color diagram."
   ]
  },
  {
   "cell_type": "code",
   "execution_count": null,
   "id": "cb9c8b3a",
   "metadata": {
    "scrolled": true
   },
   "outputs": [],
   "source": [
    "clusters = set(gaia_clean.Cluster)\n",
    "print(clusters)"
   ]
  },
  {
   "cell_type": "code",
   "execution_count": null,
   "id": "ccafcec3",
   "metadata": {},
   "outputs": [],
   "source": [
    "cluster_2 = gaia_clean[gaia_clean.Cluster=='NGC_3114']\n",
    "cluster_2 = cluster_2[cluster_2.PMemb==1]\n",
    "print(cluster_2.shape)\n",
    "# zero-point offset correction\n",
    "cluster_2.plx += 0.029"
   ]
  },
  {
   "cell_type": "code",
   "execution_count": null,
   "id": "a1189a04",
   "metadata": {},
   "outputs": [],
   "source": [
    "calc_posterior(cluster_2.plx, cluster_2.e_plx, [1, 1.03])"
   ]
  },
  {
   "cell_type": "code",
   "execution_count": null,
   "id": "05ad98da",
   "metadata": {},
   "outputs": [],
   "source": [
    "def absolute_mag(apparent_mag, dist):\n",
    "    '''Convert from apparent magnitude to absolute magnitude at distance in kpc'''\n",
    "    M = apparent_mag - 5*np.log10(dist) - 10\n",
    "    return M"
   ]
  },
  {
   "cell_type": "code",
   "execution_count": null,
   "id": "25cdbabc",
   "metadata": {},
   "outputs": [],
   "source": [
    "# turn visual magnitudes to absolute magnitudes, using the distance obtained from the posterior distribution\n",
    "NGC2506_abs = absolute_mag(NGC2506.Gmag, 3.134126825365073)\n",
    "cluster_2_abs = absolute_mag(cluster_2.Gmag, 1.014870974194839)"
   ]
  },
  {
   "cell_type": "code",
   "execution_count": null,
   "id": "ede14526",
   "metadata": {},
   "outputs": [],
   "source": [
    "fig = plt.figure(figsize=(8,6))\n",
    "plt.scatter(NGC2506['BP-RP'], NGC2506_abs,  marker='.', alpha=0.3, label='NGC2506')\n",
    "plt.scatter(cluster_2['BP-RP'], cluster_2_abs,  marker='.', alpha=0.3, label='NGC3114')\n",
    "plt.gca().invert_yaxis()\n",
    "plt.title('Absolute Gmag vs. BP-RP for both clusters')\n",
    "plt.ylabel('G absolute magnitude')\n",
    "plt.xlabel('BP-RP color')\n",
    "plt.legend()\n",
    "plt.show()"
   ]
  },
  {
   "cell_type": "markdown",
   "id": "3d36a98e",
   "metadata": {},
   "source": [
    "Here we see that the two clusters compared are at different stages of their evolution. NGC 3114 is younger than NGC2506, since its heavier stars are still in their MS stage."
   ]
  },
  {
   "cell_type": "code",
   "execution_count": null,
   "id": "14cc54d1",
   "metadata": {},
   "outputs": [],
   "source": []
  }
 ],
 "metadata": {
  "kernelspec": {
   "display_name": "Python 3 (ipykernel)",
   "language": "python",
   "name": "python3"
  },
  "language_info": {
   "codemirror_mode": {
    "name": "ipython",
    "version": 3
   },
   "file_extension": ".py",
   "mimetype": "text/x-python",
   "name": "python",
   "nbconvert_exporter": "python",
   "pygments_lexer": "ipython3",
   "version": "3.8.12"
  }
 },
 "nbformat": 4,
 "nbformat_minor": 5
}
