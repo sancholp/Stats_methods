{
 "cells": [
  {
   "cell_type": "code",
   "execution_count": 1,
   "id": "6f075877",
   "metadata": {},
   "outputs": [],
   "source": [
    "import numpy as np\n",
    "import pandas as pd\n",
    "import matplotlib.pyplot as plt\n",
    "import scipy.stats as sps\n",
    "import scipy.optimize as spopt\n",
    "import scipy.integrate as spint\n",
    "import scipy.interpolate as spinterp"
   ]
  },
  {
   "cell_type": "markdown",
   "id": "21a2ca37",
   "metadata": {},
   "source": [
    "# Statistical Methods - Assignment 3\n",
    "\n",
    "All programming Challenges are graded following the rubric on Canvas. In short, we are grading under the followings aspects: complete solution, explanation of assumptions, explanation of solution, clearness of plots, coding practices.\n",
    "\n",
    "## Part A - the challenges:\n",
    "\n",
    "|          | Challenge 10 | Challenge 11 | Challenge 12 | Part A sum\n",
    "|:--------:|:------------:|:------------:|:------------:|:----------:|\n",
    "| Solution |     2.5  / 5    |     3  / 5    |     8 / 10    |   13.5  / 20   |\n",
    "\n",
    "- Comments: Although your code generally works well and returns the right results, the explanation parts are too brief and thus, essential parts of the assignment are missing. In challenge 10, I don't understand how you interpret your results and challenge 11 misses important statements about the differences between weighted least-squares fitting and using the loglikelihood for a Poisson distribution. This was better for challenge 12. Lastly, I would recommend paying attention to details such as the number of significant digits and axis labels."
   ]
  },
  {
   "cell_type": "markdown",
   "id": "855fe7c9",
   "metadata": {},
   "source": [
    "## Ep. 10:\n",
    "\n",
    "*Approach:* Create three functions to fit, and find fit parameters with 1-$\\sigma$ errors. Plot the various models along with the residuals, and find goodness-of-fit to determine which model is best."
   ]
  },
  {
   "cell_type": "code",
   "execution_count": 2,
   "id": "339bedf1",
   "metadata": {
    "scrolled": false
   },
   "outputs": [],
   "source": [
    "data = pd.read_csv('pulsar-timing.txt', delim_whitespace=True, engine='python',\n",
    "                        header=0, index_col=False)\n",
    "dates = np.linspace(1974.93, 1981.14, 1000)"
   ]
  },
  {
   "cell_type": "markdown",
   "id": "930e735c",
   "metadata": {},
   "source": [
    "In the following figures, I show each individual model plotted against the data. I also run a $\\chi_2$ test on the models. The null hypothesis for all tests is that the model fits the data. I recquire a goodness-of-fit (p-value) > 0.05 to accept the hypothesis."
   ]
  },
  {
   "cell_type": "code",
   "execution_count": 3,
   "id": "d9ba7520",
   "metadata": {},
   "outputs": [],
   "source": [
    "def fit_nth_order(dates, dts, errs, order):\n",
    "    '''Perform wieghted least squares fit of supplied data, fitting a polynomial of 0th, 1st or 2nd order.\n",
    "    Also prints the MLE of the parameters along with their 1-sigma error. Lastly performs chi^2 test of data\n",
    "    and plots results.'''\n",
    "    # define fit functions according to order\n",
    "    if order == 0:\n",
    "        fit_func = lambda x, a: a\n",
    "    elif order == 1:\n",
    "        fit_func = lambda x, a, b: a + b*x\n",
    "    elif order == 2:\n",
    "        fit_func = lambda x, a, b, c: a + b*x + c*x**2\n",
    "    # perform fit and calculate errors\n",
    "    ml_cfpars, ml_cfcovar = spopt.curve_fit(fit_func, dates, dts, sigma=errs)\n",
    "    err = np.sqrt(np.diag(ml_cfcovar)) \n",
    "    print('Fit parameters and 1-sig error:', ml_cfpars, '+/-', err)\n",
    "    \n",
    "    # perform chi^2 test\n",
    "    minchisq = np.sum(((dts-fit_func(dates, *ml_cfpars))/errs)**2)\n",
    "    dof = len(dates)-len(ml_cfpars)\n",
    "    print(\"Minimum Chi-squared = \"+str(minchisq)+\" for \"+str(dof)+\" d.o.f.\")\n",
    "    print(\"The goodness-of-fit is: \",sps.chi2.sf(minchisq,df=dof))\n",
    "    \n",
    "    # plot data and fit along with residuals\n",
    "    date_space = np.linspace(1974.93, 1981.14, 1000)\n",
    "    fig, (ax1, ax2) = plt.subplots(2,1, figsize=(8,6),sharex=True,gridspec_kw={'height_ratios':[2,1]})\n",
    "    fig.subplots_adjust(hspace=0)\n",
    "    # Plot data as points with y-errors\n",
    "    ax1.errorbar(dates, dts, yerr=errs, marker=\"o\", linestyle=\"\")\n",
    "    # Plot the model as a continuous curve\n",
    "    if order == 0:\n",
    "        ax1.hlines(ml_cfpars[0], date_space[0], date_space[-1], color='Red', lw=2)\n",
    "    else:\n",
    "        ax1.plot(date_space, fit_func(date_space, *ml_cfpars), color='Red', lw=2)\n",
    "    ax1.set_ylabel(\"dt\", fontsize=14)\n",
    "    ax1.set_title(f'{order}-order weighted least squares fit', fontsize=14)\n",
    "    ax1.tick_params(labelsize=14)\n",
    "    # Plot the data-model residuals as points with errors:\n",
    "    ax2.errorbar(dates, dts-fit_func(dates, *ml_cfpars),\n",
    "                 yerr=errs, marker=\"o\", linestyle=\"\")\n",
    "    ax2.set_xlabel(\"Year\",fontsize=14)\n",
    "    ax2.set_ylabel(\"Residuals\", fontsize=14)\n",
    "    ax2.axhline(0.0, color='r', linestyle='dotted', lw=2) ## when showing residuals it is useful to also show the 0 line\n",
    "    ax2.tick_params(labelsize=12)\n",
    "    plt.show()\n",
    "    "
   ]
  },
  {
   "cell_type": "code",
   "execution_count": 28,
   "id": "cc0cd1c9",
   "metadata": {},
   "outputs": [
    {
     "name": "stdout",
     "output_type": "stream",
     "text": [
      "Fit parameters and 1-sig error: [-1.08392562] +/- [0.15098539]\n",
      "Minimum Chi-squared = 3548.1567279428273 for 12 d.o.f.\n",
      "The goodness-of-fit is:  0.0\n"
     ]
    },
    {
     "data": {
      "image/png": "[encoded data removed]",
      "text/plain": [
       "<Figure size 576x432 with 2 Axes>"
      ]
     },
     "metadata": {
      "needs_background": "light"
     },
     "output_type": "display_data"
    }
   ],
   "source": [
    "fit_nth_order(data.date, data.dt, data.error, 0)\n",
    "\n",
    "## Niek: always mention units in the axis labels (in this case: what are the units of dt? Is 'Year' a physical \n",
    "## quantity or a unit to express time?)\n",
    "## Also: report results in a reasonable number of significant digits."
   ]
  },
  {
   "cell_type": "markdown",
   "id": "de22ce4a",
   "metadata": {},
   "source": [
    "Here, the null hypothesis is rejected at the 95% confidence level."
   ]
  },
  {
   "cell_type": "code",
   "execution_count": 5,
   "id": "2018181c",
   "metadata": {},
   "outputs": [
    {
     "name": "stdout",
     "output_type": "stream",
     "text": [
      "Fit parameters and 1-sig error: [ 6.80635748e+02 -3.44393183e-01] +/- [4.64600881e+01 2.34708395e-02]\n",
      "Minimum Chi-squared = 172.46601027189018 for 11 d.o.f.\n",
      "The goodness-of-fit is:  3.665613336266108e-31\n"
     ]
    },
    {
     "data": {
      "image/png": "[encoded data removed]",
      "text/plain": [
       "<Figure size 576x432 with 2 Axes>"
      ]
     },
     "metadata": {
      "needs_background": "light"
     },
     "output_type": "display_data"
    }
   ],
   "source": [
    "fit_nth_order(data.date, data.dt, data.error, 1)"
   ]
  },
  {
   "cell_type": "markdown",
   "id": "03b228dc",
   "metadata": {},
   "source": [
    "Here, the null hypothesis cannot be rejected at the 95% confidence level, as the p-value is much lower than the recquired threshold value.\n",
    "\n",
    "*Niek: I'd say you can discard the hypothesis that the linear fit is a good fit, with such a low p-value and such a high $X^2$ value.*"
   ]
  },
  {
   "cell_type": "code",
   "execution_count": 6,
   "id": "e4a95c01",
   "metadata": {
    "scrolled": false
   },
   "outputs": [
    {
     "name": "stdout",
     "output_type": "stream",
     "text": [
      "Fit parameters and 1-sig error: [-1.61323313e+05  1.63378539e+02 -4.13650132e-02] +/- [1.30972875e+04 1.32362888e+01 3.34418997e-03]\n",
      "Minimum Chi-squared = 10.50664560648874 for 10 d.o.f.\n",
      "The goodness-of-fit is:  0.3972219687734592\n"
     ]
    },
    {
     "data": {
      "image/png": "[encoded data removed]",
      "text/plain": [
       "<Figure size 576x432 with 2 Axes>"
      ]
     },
     "metadata": {
      "needs_background": "light"
     },
     "output_type": "display_data"
    }
   ],
   "source": [
    "fit_nth_order(data.date, data.dt, data.error, 2)"
   ]
  },
  {
   "cell_type": "markdown",
   "id": "c42ced8f",
   "metadata": {},
   "source": [
    "Here, the null hypothesis is rejected at the 95% confidence level.\n",
    "\n",
    "*Conclusion:* Even though the quadratic fit looks to be more accurate, the linear fit gives the best goodness-of-fit. This might be cause by the model being over-fitted. The $\\chi^2$ value is of the order of magnitude of the d.o.f., while in the linear model this is not the case.\n",
    "\n",
    "*Niek: for as far as I can see, the linear fit returns a goodness-of-fit of 3.7e-31, which is much lower than the value of 0.4 for the quadratic fit. Also, the fact that the $X^2$ value is similar to the number of degrees of freedom is a good sign. Interpretation is an important part of the assignment. Also, I did not see any explanation of the assumptions that go into this analysis, e.g. that the errors are normally distributed.*"
   ]
  },
  {
   "cell_type": "markdown",
   "id": "9d29ae61",
   "metadata": {},
   "source": [
    "### Ep. 11:\n",
    "\n",
    "*Approach:* Load in data, and rebin as in the episode to have a minimum number of counts per bin in the histogram. Subsequently, make an a-b grid with 100x100 items, each a possible combination of parameters for the power law. Calculate the $\\chi^2$ value at each a-b combination, to find best fit, as well as 1, 2 and 3 sigma levels. As a model, I have to use the integrated power law model, to take into account any possible underlying effects in each bin of the histogram. These can then be plotted in a contour plot as in the episode. Then, I'll do something similar, but for the data before it has been rebinned. Also, instead of calculating the $\\chi^2$ value for each point in the grid, I calculate the Poisson LogLikelihood. With the resulting LogLikelihod grid I can plot the contours, just as done with the $\\chi^2$.\n",
    "\n",
    "\n",
    "*Niek: why use these two different methods? Why rebin if you want to use $X^2$? I know that this is in the github material, but the assignments are about applying the things you've learned to problems. Therefore, you should e.g. explain that you rebin because at ~20 or more counts, the Poisson distribution is similar to a Gaussian distribution with $\\sigma=sqrt{counts}$ and that means that you can use weighted least-squares fitting. Without these explanations, the assignment is incomplete.*"
   ]
  },
  {
   "cell_type": "code",
   "execution_count": 7,
   "id": "08d2751e",
   "metadata": {},
   "outputs": [],
   "source": [
    "photens = np.genfromtxt('photon_energies.txt')\n",
    "\n",
    "def histrebin(mininbin,counts,edges):\n",
    "    '''Takes as input a minimum counts per bin and a histogram counts and bin edges, and combines \n",
    "       adjacent histogram bins as needed so that no bin has less than the required minimum.\n",
    "       Inputs:\n",
    "           mininbin - required minimum counts/bin.\n",
    "           counts, edges - input histogram counts/bin and bin edges arrays.\n",
    "       Outputs:\n",
    "           counts2, edges2 - rebinned counts/bin and bin edges arrays'''\n",
    "    edges2=np.zeros(1)\n",
    "    counts2=np.zeros(1)\n",
    "    i=0\n",
    "    countsum=0\n",
    "    firstbin_flag = 1\n",
    "    edges2[0]=edges[0]\n",
    "    for x in counts:\n",
    "        countsum=countsum+x\n",
    "        i=i+1\n",
    "        if countsum >= mininbin and (sum(counts[i:]) >= mininbin or i == len(counts)):  # The sum over counts in \n",
    "            # remaining bins ensures that we are not left with a bin with counts less than our limit at the end.\n",
    "            if firstbin_flag == 1: # if this is the first bin satisfying our requirement, \n",
    "                # do not append but replace bin 0 with countsum\n",
    "                counts2[0]=countsum\n",
    "                firstbin_flag = 0 # now we read the first bin we can switch this off\n",
    "            else:\n",
    "                counts2=np.append(counts2,countsum)\n",
    "            edges2=np.append(edges2,edges[i])\n",
    "            countsum=0        \n",
    "    return counts2, edges2\n",
    "\n",
    "def grid2d_chisqmin(ab_index, ab_range, ab_steps, parm, model, xval, yval, dy):\n",
    "    '''Finds best fit and then carries out chisq minimisation for a 2D grid of fixed parameters.'''\n",
    "    a_grid = np.linspace(ab_range[0][0],ab_range[0][1],ab_steps[0])\n",
    "    b_grid = np.linspace(ab_range[1][0],ab_range[1][1],ab_steps[1])\n",
    "    chisq_grid = np.zeros((len(a_grid),len(b_grid)))\n",
    "    # First obtain best-fitting values for a and b and corresponding chi-squared\n",
    "    ml_cfpars, ml_cfcovar = spopt.curve_fit(model, xval, yval, parm, sigma=dy)\n",
    "    minchisq = np.sum(((yval-model(xval,*ml_cfpars))/dy)**2)\n",
    "    ab_best = [ml_cfpars[ab_index[0]], ml_cfpars[ab_index[1]]]\n",
    "    free_parm = parm\n",
    "    # Now fit for each a and b in the grid, to do so we must use a lambda function to insert the fixed \n",
    "    # a and b into the model function when it is called by curve_fit, so that curve_fit does not use \n",
    "    # a or b as one of the free parameters so they remain at the fixed grid value in the fit.\n",
    "    for i, a_val in enumerate(a_grid):\n",
    "        for j, b_val in enumerate(b_grid):\n",
    "            fnctn = lambda xval, *free_parm: model(xval, *np.insert(np.insert(free_parm,ab_index[0],a_val),\n",
    "                                                                    ab_index[1],b_val))\n",
    "            chisq_grid[i,j] = np.sum(((yval-model(xval,\n",
    "                        *np.insert(np.insert(ml_cfpars,ab_index[0],a_val),ab_index[1],b_val)))/dy)**2)\n",
    "                \n",
    "    return ab_best, minchisq, a_grid, b_grid, chisq_grid"
   ]
  },
  {
   "cell_type": "code",
   "execution_count": 8,
   "id": "9b726254",
   "metadata": {},
   "outputs": [
    {
     "data": {
      "image/png": "[encoded data removed]",
      "text/plain": [
       "<Figure size 432x288 with 1 Axes>"
      ]
     },
     "metadata": {
      "needs_background": "light"
     },
     "output_type": "display_data"
    }
   ],
   "source": [
    "# Now we make our unbinned histogram.  We can keep the initial number of bins relatively large.\n",
    "emin, emax = 10., 200.   # We should always use the known values that the data are sampled over \n",
    "                         # for the range used for the bins!\n",
    "nbins = 50\n",
    "counts, edges = np.histogram(photens, bins=nbins, range=[emin,emax], density=False)\n",
    "\n",
    "# And now we use our new function to rebin so there are at least mincounts counts per bin:\n",
    "mincounts = 20  # Here we set it to our minimum requirement of 20, but in principle you could set it higher\n",
    "counts_rebin, edges_rebin = histrebin(mincounts,counts,edges)\n",
    "bwidths = np.diff(edges_rebin) # calculates the width of each bin\n",
    "cdens = counts_rebin/bwidths # determines the count densities\n",
    "cdens_err = np.sqrt(counts_rebin)/bwidths # calculate the errors: remember the error is based on the counts, \n",
    "# not the count density, so we have to also apply the same normalisation.\n",
    "energies = (edges_rebin[:-1]+edges_rebin[1:])/2.  # This calculates the energy bin centres\n",
    "# Now plot the data - use a log-log scale since we are plotting a power-law\n",
    "plt.figure()\n",
    "plt.errorbar(energies, cdens, xerr=bwidths/2., yerr=cdens_err, fmt='o')\n",
    "plt.xlabel(\"Energy (GeV)\", fontsize=16)\n",
    "plt.ylabel(\"Counts/GeV\", fontsize=16)\n",
    "plt.tick_params(labelsize=14)\n",
    "plt.yscale('log')\n",
    "plt.xscale('log')\n",
    "plt.xlim(10.0,200.0)\n",
    "plt.show()"
   ]
  },
  {
   "cell_type": "markdown",
   "id": "1b984dbc",
   "metadata": {},
   "source": [
    "Here we see the rebinned data. We notice that the count density follows a power law as a function of energy."
   ]
  },
  {
   "cell_type": "code",
   "execution_count": 9,
   "id": "9a346a41",
   "metadata": {},
   "outputs": [],
   "source": [
    "# create power law model y = ax^b\n",
    "def pl_model(x, *parm):\n",
    "    '''Simple power-law function.'''\n",
    "    pl_norm = parm[0]  # here the function given means that the normalisation corresponds to that at a value 1.0\n",
    "    pl_index = parm[1]\n",
    "    return pl_norm * x**pl_index\n",
    "\n",
    "def model_int_cf(ebins, *parm):\n",
    "    '''General function for integrating the input model over energy bins ebins within curve_fit.\n",
    "       Inputs:\n",
    "           ebins - energy bin edges.\n",
    "           parm - the curve_fit input parameter list.\n",
    "       Outputs:\n",
    "           ymod - calculated counts-density model values for y-axis.'''\n",
    "    i = 0\n",
    "    ymod = np.zeros(len(ebins)-1)\n",
    "    model = pl_model\n",
    "    for energy in ebins[:-1]:\n",
    "        ymod[i], ymoderr = spint.quad(lambda x: model(x, *parm),ebins[i],ebins[i+1])\n",
    "        ymod[i] = ymod[i]/(ebins[i+1]-ebins[i])  # we now divide by the bin width to match the counts density\n",
    "        # units of our data\n",
    "        i=i+1\n",
    "    return ymod"
   ]
  },
  {
   "cell_type": "code",
   "execution_count": 10,
   "id": "28a03a49",
   "metadata": {},
   "outputs": [],
   "source": [
    "def plot_contours_chi2(ab_index, ab_range, ab_steps, parm, model, xval, yval, dy):\n",
    "    '''Plots contours of 1-, 2- and 3-sigma regions of the MLE of the model provided, using chi2.'''\n",
    "    ab_best, minchisq, a_grid, b_grid, chisq_grid = grid2d_chisqmin(ab_index,ab_range,ab_steps,\n",
    "                                    parm,model,xval,yval,dy)\n",
    "    # Determine the chisq_2 values which contain 1, 2 and 3-sigma regions:\n",
    "    del1 = sps.chi2.isf(2*sps.norm.sf(1),df=2)\n",
    "    del2 = sps.chi2.isf(2*sps.norm.sf(2),df=2)\n",
    "    del3 = sps.chi2.isf(2*sps.norm.sf(3),df=2)\n",
    "    print('Best fit parameters [a,b]:', ab_best)\n",
    "    print(\"1, 2, 3-sigma contours correspond to delta-chisq =\",del1,del2,del3)\n",
    "\n",
    "    # Now plot the contours, including a cross to mark the location of the MLEs\n",
    "    # First we assign all three variables to their own 2D arrays:\n",
    "    X, Y = np.meshgrid(a_grid,b_grid,indexing='ij')\n",
    "    Z = chisq_grid\n",
    "    levels = [minchisq+del1, minchisq+del2, minchisq+del3] # plots the 1, 2 and 3-sigma\n",
    "    # confidence contours\n",
    "    plt.figure()\n",
    "    plt.contour(X, Y, Z, levels, colors=('r', 'g', 'b'))\n",
    "    plt.scatter(*ab_best, marker=\"+\")\n",
    "    plt.xlabel(r'$a$', fontsize=14)\n",
    "    plt.ylabel(r'$b$', fontsize=14)\n",
    "    plt.title('$\\chi^2$ grid')\n",
    "    plt.show()"
   ]
  },
  {
   "cell_type": "code",
   "execution_count": 11,
   "id": "6a74c0fb",
   "metadata": {
    "scrolled": false
   },
   "outputs": [
    {
     "name": "stdout",
     "output_type": "stream",
     "text": [
      "Best fit parameters [a,b]: [2695.8605004131714, -1.5725093885531372]\n",
      "1, 2, 3-sigma contours correspond to delta-chisq = 2.295748928898636 6.180074306244174 11.82915808190081\n"
     ]
    },
    {
     "data": {
      "image/png": "[encoded data removed]",
      "text/plain": [
       "<Figure size 432x288 with 1 Axes>"
      ]
     },
     "metadata": {
      "needs_background": "light"
     },
     "output_type": "display_data"
    }
   ],
   "source": [
    "# run for integrated power-law model in specified range\n",
    "model = model_int_cf\n",
    "parm = [2500., -1.5] # starting parameters for initial fit\n",
    "par_indices = [0, 1]\n",
    "par_ranges = [[1300, 5000],[-1.4, -1.8]]\n",
    "par_steps = [100,100]\n",
    "\n",
    "plot_contours_chi2(par_indices,par_ranges,par_steps,parm,model,edges_rebin,cdens,cdens_err)"
   ]
  },
  {
   "cell_type": "markdown",
   "id": "0a5cc060",
   "metadata": {},
   "source": [
    "In this plot we see the 1, 2 and 3 $\\sigma$ regions of the $\\chi^2$ performed on a grid of possible power law coefficients $a$ and $b$. The cross marks the point with the minimum $\\chi^2$ value.\n",
    "\n",
    "Now we use a similar approach to calculate the Poisson LogLikelihood minimum and grid. Instead of calculating the $\\chi^2$ for every value combination in the grid, we calculate the Poisson LogLikelihood using the LogLikelihood_Pois_Integ function."
   ]
  },
  {
   "cell_type": "code",
   "execution_count": 12,
   "id": "4bda5c0e",
   "metadata": {},
   "outputs": [],
   "source": [
    "def grid2d_ll(result,ab_range,ab_steps,parm,model,xval,yval,dy):\n",
    "    '''Finds best fit and then carries out Poisson LogLikelihood minimization for a 2D grid of fixed parameters.'''\n",
    "    a_grid = np.linspace(ab_range[0][0],ab_range[0][1],ab_steps[0])\n",
    "    b_grid = np.linspace(ab_range[1][0],ab_range[1][1],ab_steps[1])\n",
    "    ll_grid = np.zeros((len(a_grid),len(b_grid)))\n",
    "    # First obtain best-fitting values for a and b and corresponding chi-squared\n",
    "    ab_best = [result.x[0], result.x[1]]\n",
    "    min_ll = result.fun\n",
    "    # Now fit for each a and b in the grid.\n",
    "    for i, a_val in enumerate(a_grid):\n",
    "        for j, b_val in enumerate(b_grid):\n",
    "            ll_grid[i,j] = LogLikelihood_Pois_Integ([a_val,b_val], pl_model, edges, counts)\n",
    "    return ab_best, min_ll, a_grid, b_grid, ll_grid "
   ]
  },
  {
   "cell_type": "code",
   "execution_count": 13,
   "id": "13b7d665",
   "metadata": {},
   "outputs": [],
   "source": [
    "def plot_contours_ll(result,ab_range,ab_steps,parm,model,xval,yval,dy):\n",
    "    '''Plots contours of 1-, 2- and 3-sigma regions of the MLE of the model provided, using Poisson LogLikelihood.'''\n",
    "    ab_best, min_ll, a_grid, b_grid, ll_grid = grid2d_ll(result,ab_range,ab_steps,parm,model,xval,yval,dy)\n",
    "    # Determine the chisq_2 values which contain 1, 2 and 3-sigma regions:\n",
    "    del1 = 0.5*sps.chi2.isf(2*sps.norm.sf(1),df=2)\n",
    "    del2 = 0.5*sps.chi2.isf(2*sps.norm.sf(2),df=2)\n",
    "    del3 = 0.5*sps.chi2.isf(2*sps.norm.sf(3),df=2)\n",
    "\n",
    "    print('Best fit parameters [a,b]:', ab_best)\n",
    "    print(\"1, 2, 3-sigma contours correspond to delta-chisq =\",del1,del2,del3)\n",
    "\n",
    "    # Now plot the contours, including a cross to mark the location of the MLEs\n",
    "    # First we assign all three variables to their own 2D arrays:\n",
    "    X, Y = np.meshgrid(a_grid,b_grid,indexing='ij')\n",
    "    Z = ll_grid\n",
    "    levels = [min_ll+del1, min_ll+del2, min_ll+del3] # plots the 1, 2 and 3-sigma\n",
    "    # confidence contours\n",
    "    plt.figure()\n",
    "    plt.contour(X, Y, Z, levels, colors=('r', 'g', 'b'))\n",
    "    plt.scatter(*ab_best, marker=\"+\")\n",
    "    plt.xlabel(r'$a$', fontsize=14)\n",
    "    plt.ylabel(r'$b$', fontsize=14)\n",
    "    plt.title('Poisson LogLikelihood grid')\n",
    "    plt.show()"
   ]
  },
  {
   "cell_type": "code",
   "execution_count": 14,
   "id": "9e1d64f3",
   "metadata": {
    "scrolled": false
   },
   "outputs": [
    {
     "name": "stdout",
     "output_type": "stream",
     "text": [
      "Covariance matrix: [[ 1.70090010e-03 -1.34469540e-04]\n",
      " [-1.34469540e-04  7.75336504e-05]]\n",
      "Normalisation at 1 GeV = 2555.715712235763 +/- 0.04124197014632119\n",
      "Power-law index = -1.550980198211201 +/- 0.008805319435945144\n",
      "Minimum log-likelihood = 126.29341155696217\n",
      "Best fit parameters [a,b]: [2555.715712235763, -1.550980198211201]\n",
      "1, 2, 3-sigma contours correspond to delta-chisq = 1.147874464449318 3.090037153122087 5.914579040950405\n"
     ]
    },
    {
     "data": {
      "image/png": "[encoded data removed]",
      "text/plain": [
       "<Figure size 432x288 with 1 Axes>"
      ]
     },
     "metadata": {
      "needs_background": "light"
     },
     "output_type": "display_data"
    }
   ],
   "source": [
    "def LogLikelihood_Pois_Integ(parm, model, ebins, counts): \n",
    "    '''Calculate the negative Poisson log-likelihood for a model integrated over bins. \n",
    "       Inputs:\n",
    "           parm - model parameter list.\n",
    "           model - model function name.\n",
    "           ebins, counts - energy bin edges and corresponding counts per bin.\n",
    "        Outputs: the negative Poisson log-likelihood'''\n",
    "    i = 0\n",
    "    ymod = np.zeros(len(counts))\n",
    "    for energy in ebins[:-1]:\n",
    "        ymod[i], ymoderr = spint.quad(lambda x: model(x, *parm),ebins[i],ebins[i+1])\n",
    "        # we don't normalise by bin width since the rate parameter is set by the model and needs to be \n",
    "        # in counts per bin\n",
    "        i=i+1        \n",
    "    pd = sps.poisson(ymod) #we define our Poisson distribution\n",
    "    return -sum(pd.logpmf(counts))\n",
    "\n",
    "# redefine search parameters (result is expected to be similar to that using chi2)\n",
    "parm = [2500.0, -1.5]\n",
    "par_rangesb = [[1300, 5000],[-1.4, -1.8]]\n",
    "par_stepsb = [100, 100]\n",
    "\n",
    "bin_widthsb = np.diff(edges) # calculates the width of each bin\n",
    "counts_errb = np.sqrt(counts)/bin_widthsb\n",
    "energiesb = (edges[:-1]+edges[1:])/2\n",
    "\n",
    "# to find minimum of function\n",
    "result = spopt.minimize(LogLikelihood_Pois_Integ, parm, args=(pl_model, edges, counts), method='BFGS')\n",
    "\n",
    "err = np.sqrt(np.diag(result.hess_inv))\n",
    "print(\"Covariance matrix:\",result.hess_inv)\n",
    "print(\"Normalisation at 1 GeV = \" + str(result.x[0]) + \" +/- \" + str(err[0]))\n",
    "print(\"Power-law index = \" + str(result.x[1]) + \" +/- \" + str(err[1]))\n",
    "print(\"Minimum log-likelihood = \" + str(result.fun))\n",
    "\n",
    "plot_contours_ll(result,par_rangesb,par_stepsb,parm,pl_model,energies,counts,counts_errb)"
   ]
  },
  {
   "cell_type": "markdown",
   "id": "09cd712b",
   "metadata": {},
   "source": [
    "*Conclusion:* Both approaches give similar results. The Poissong LogLikelihood gives results that are slightly closer to 0. Nevertheless the shapes of the 1, 2 and 3 $\\sigma$ regions resemble one another closely. The Poissong LogLikelihood increases faster as you get farther away from the minimum than the $\\chi^2$ does, and so its regions are slightly smaller, but with similar shape."
   ]
  },
  {
   "cell_type": "markdown",
   "id": "6fe2ce8c",
   "metadata": {},
   "source": [
    "## Ep. 12:"
   ]
  },
  {
   "cell_type": "code",
   "execution_count": 34,
   "id": "0db487ca",
   "metadata": {},
   "outputs": [],
   "source": [
    "def model_int_cf2(ecent, ebins, model, *parm):\n",
    "    '''General function for integrating the input model over energy bins ebins within curve_fit.\n",
    "       Inputs:\n",
    "           ecent - energy bin centres, dummy array with length len(ebins)-1 to fool curve_fit into \n",
    "                   accepting the function as the correct format for curve_fit.\n",
    "           ebins - energy bin edges.\n",
    "           model, parm - the curve_fit model name and input parameter list.\n",
    "       Outputs:\n",
    "           ymod - calculated counts-density model values for y-axis.'''\n",
    "    i = 0\n",
    "    ymod = np.zeros(len(ecent))\n",
    "    for energy in ebins[:-1]:\n",
    "        ymod[i], ymoderr = spint.quad(lambda x: model(x, *parm),ebins[i],ebins[i+1])\n",
    "        ymod[i] = ymod[i]/(ebins[i+1]-ebins[i])  # we now divide by the bin width to match the counts density\n",
    "        # units of our data\n",
    "        i=i+1\n",
    "    return ymod\n",
    "\n",
    "def plot_spec_model(ebins,cdens,cdens_err,cdens_model):\n",
    "    '''Plot the binned (GeV) spectrum with the model as a histogram, and \n",
    "       data/model residuals.\n",
    "       Inputs:\n",
    "           ebins - energy bin edges.\n",
    "           cdens, cdens_err - counts density and its error.\n",
    "           cdens_model - model counts density.'''\n",
    "    energies = (ebins[1:]+ebins[:-1])/2\n",
    "    bwidths = np.diff(ebins)\n",
    "    fig, (ax1, ax2) = plt.subplots(2,1, figsize=(8,6),sharex=True,gridspec_kw={'height_ratios':[2,1]})\n",
    "    fig.subplots_adjust(hspace=0)\n",
    "    ax1.errorbar(energies, cdens, xerr=bwidths/2., yerr=cdens_err, fmt='o')\n",
    "    model_hist, edges, patches = ax1.hist(energies, bins=ebins, weights=cdens_model, \n",
    "                                      density=False, histtype='step')\n",
    "    ax2.errorbar(energies, cdens/cdens_model, xerr=bwidths/2., yerr=cdens_err/cdens_model, fmt='o')\n",
    "    ax2.set_xlabel(\"Energy (GeV)\", fontsize=16)\n",
    "    ax1.set_ylabel(\"Counts/Gev\", fontsize=14)\n",
    "    ax2.set_ylabel(\"data/model\", fontsize=14)\n",
    "    ax2.axhline(1.0, color='r', linestyle='dotted', lw=2) \n",
    "    ax1.tick_params(labelsize=14)\n",
    "    ax1.tick_params(axis=\"x\",direction=\"in\",which=\"both\", length=4)\n",
    "    ax2.tick_params(axis=\"x\",which=\"both\", length=4)\n",
    "    ax2.tick_params(labelsize=14)\n",
    "    ax1.set_yscale('log')\n",
    "    ax1.set_xscale('log')\n",
    "    ax2.set_xscale('log')\n",
    "    ax1.get_yaxis().set_label_coords(-0.12,0.5)\n",
    "    ax2.get_yaxis().set_label_coords(-0.12,0.5)\n",
    "    ax2.set_xlim(ebins[0],ebins[-1]) # Strictly speaking we should only show the energy range \n",
    "    # where data is sampled, to avoid impression from model that the flux suddenly drops \n",
    "    # at the boundaries.\n",
    "    plt.show()"
   ]
  },
  {
   "cell_type": "markdown",
   "id": "e26ec519",
   "metadata": {},
   "source": [
    "#### a)\n",
    "*Approach:* Do as in the episode. Read in the energies from the file, rebin it so that we have a minimum number of counts per bin. Afterwards, we convert from counts to count density, by dividing out the bin-width. We can also get the error ont he density by taking the square root, and also normalizing wising the bin-widths. After that, we need to fit the appropriate cutoff power law to the data. To do this, we create a cutoff_pl function defined as in the instructions. Subsequently, we fit using weighted least squares with scipy.optimize.curve_fit. The results can then be plotted using the plot_spec_model provided"
   ]
  },
  {
   "cell_type": "code",
   "execution_count": 35,
   "id": "40d397f8",
   "metadata": {},
   "outputs": [],
   "source": [
    "def cutoff_pl(E_arr, *parm):\n",
    "    '''Cut-off power law model'''\n",
    "    N_0   = parm[0]\n",
    "    Gamma = parm[1]\n",
    "    E_cut = parm[2]\n",
    "    N_cont = N_0*E_arr**(-Gamma)*np.exp(-E_arr/E_cut)\n",
    "    return N_cont"
   ]
  },
  {
   "cell_type": "code",
   "execution_count": 40,
   "id": "fed6bb17",
   "metadata": {},
   "outputs": [
    {
     "name": "stdout",
     "output_type": "stream",
     "text": [
      "N_0   = 40508.01480609711 +/- 4567.821750063483\n",
      "Gamma = 1.2479732207358276 +/- 0.03604799064826964\n",
      "E_cut = 113.87488380217759 +/- 6.310758006853715\n",
      "Minimum Chi-squared = 65.18823864397646 for 51 d.o.f.\n",
      "The goodness of fit is: 0.08739174468790337\n"
     ]
    },
    {
     "data": {
      "image/png": "[encoded data removed]",
      "text/plain": [
       "<Figure size 576x432 with 2 Axes>"
      ]
     },
     "metadata": {
      "needs_background": "light"
     },
     "output_type": "display_data"
    }
   ],
   "source": [
    "#  First read in the data.\n",
    "photens = np.genfromtxt('event_energies.txt')\n",
    "\n",
    "# Now we make our unbinned histogram.\n",
    "emin, emax = 20., 300.   # Use known limits\n",
    "\n",
    "nbins = 60\n",
    "counts, edges = np.histogram(photens, bins=nbins, range=[emin,emax], density=False)\n",
    "\n",
    "# Rebin to have at least mincounts counts per bin:\n",
    "mincounts = 20\n",
    "counts2, edges2 = histrebin(mincounts, counts, edges)\n",
    "\n",
    "bwidths = np.diff(edges2) # calculates the width of each bin\n",
    "cdens = counts2/bwidths # determines the count densities\n",
    "cdens_err = np.sqrt(counts2)/bwidths # calculate the errors: remember the error is based on the counts, \n",
    "# not the count density, so we have to also apply the same normalisation.\n",
    "energies = (edges2[:-1]+edges2[1:])/2.  # This calculates the energy bin centres\n",
    "\n",
    "model = cutoff_pl\n",
    "p0 = [40000., 1.2, 120.]  # Initial cutoff power-law parameters\n",
    "ml_cfpars, ml_cfcovar = spopt.curve_fit(lambda energies, *parm: model_int_cf2(energies, edges2, model, *parm),\n",
    "                                        energies, cdens, p0, sigma=cdens_err)\n",
    "# Print results obtained from fit\n",
    "err = np.sqrt(np.diag(ml_cfcovar))\n",
    "# print(\"Covariance matrix:\",ml_cfcovar)\n",
    "\n",
    "print(\"N_0   = \" + str(ml_cfpars[0]) + \" +/- \" + str(err[0]))\n",
    "print(\"Gamma = \" + str(ml_cfpars[1]) + \" +/- \" + str(err[1]))\n",
    "print(\"E_cut = \" + str(ml_cfpars[2]) + \" +/- \" + str(err[2]))\n",
    "minchisq = np.sum(((cdens - model_int_cf2(energies, edges2, model, *ml_cfpars))/cdens_err)**2.)\n",
    "\n",
    "print(\"Minimum Chi-squared = \" + str(minchisq) + \" for \" + str(len(cdens)-len(p0)) + \" d.o.f.\")\n",
    "print(\"The goodness of fit is: \" + str(sps.chi2.sf(minchisq,df=(len(cdens)-len(p0)))))\n",
    "\n",
    "# Return the model y-values for model with parameters equal to the MLEs\n",
    "best_model = model_int_cf2(energies, edges2, model, *ml_cfpars)\n",
    "# Now plot the data and model and residuals\n",
    "plot_spec_model(edges2, cdens, cdens_err, best_model)"
   ]
  },
  {
   "cell_type": "markdown",
   "id": "33848360",
   "metadata": {},
   "source": [
    "*Conclusions:* Fromt the data/model ratio, we can observe that around the 80-85GeV mark there could be a gaussian feature, as expected. "
   ]
  },
  {
   "cell_type": "markdown",
   "id": "843e2015",
   "metadata": {},
   "source": [
    "#### b)\n",
    "*Approach:* I'll create a function which consists of the power law continuum with a gaussian function of fixed sigma (inherent to the detector). Then, I'll fit this function over the data as done in part a. Since there are more parameters to fit, in order to give scipy a little help, I can set strict bounds for the power law parameters, as these should be similar to the ones obtained above. To check for the significance of the change, I apply Wilks' theorem, with the Bonferroni correction to take into account that I did not already know the line's expected energy range.\n",
    "\n",
    "*Niek: although I understand you want to help scipy find your fit more easily by setting bounds for parameters, Wilks' theorem technically only works for unbounded parameters.*"
   ]
  },
  {
   "cell_type": "code",
   "execution_count": 41,
   "id": "d31a6604",
   "metadata": {},
   "outputs": [],
   "source": [
    "def gaussian_cutoff_pl(E_arr, *parm):\n",
    "    '''Cut-off power law model with an additional gaussian peak'''\n",
    "    N_0    = parm[0]\n",
    "    Gamma  = parm[1]\n",
    "    E_cut  = parm[2]\n",
    "    N_tot  = parm[3]\n",
    "    E_cent = parm[4]\n",
    "    \n",
    "    sigma  = 1.3 # sigma fixed for the detector\n",
    "    N_gauss = N_tot/(sigma*np.sqrt(2*np.pi))*np.exp(-0.5*(E_arr-E_cent)**2/(sigma)**2)\n",
    "    N_cont = N_0*E_arr**(-Gamma)*np.exp(-E_arr/E_cut)\n",
    "\n",
    "    return N_cont + N_gauss"
   ]
  },
  {
   "cell_type": "code",
   "execution_count": 42,
   "id": "12c4720b",
   "metadata": {},
   "outputs": [
    {
     "name": "stdout",
     "output_type": "stream",
     "text": [
      "N_0    = 44646.836138161365 +/- 3583.0479791387497\n",
      "Gamma  = 1.280029417872382 +/- 0.025707525410616276\n",
      "E_cut  = 118.49794488831293 +/- 4.8253984097233555\n",
      "N_tot  = 155.83676134799376 +/- 24.45314925889163\n",
      "E_cent = 82.058136843215 +/- 0.5385001515175787\n",
      "Minimum Chi-squared = 30.26564726785241 for 49 d.o.f.\n",
      "The goodness of fit is: 0.9837378006238748\n"
     ]
    },
    {
     "data": {
      "image/png": "[encoded data removed]",
      "text/plain": [
       "<Figure size 576x432 with 2 Axes>"
      ]
     },
     "metadata": {
      "needs_background": "light"
     },
     "output_type": "display_data"
    }
   ],
   "source": [
    "model2 = gaussian_cutoff_pl\n",
    "p02 = [40700., 1.249, 114., 150., 81.]  # Initial cutoff power-law parameters\n",
    "bounds2 = [[40690., 1.245, 113., 0., 75.],[45000., 1.3, 150., 300., 87.]] # bounds for which to fit the function\n",
    "ml_cfpars2, ml_cfcovar2 = spopt.curve_fit(lambda energies, *parm: model_int_cf2(energies, edges2, model2, *parm),\n",
    "                                          energies, cdens, p02, bounds=bounds2, sigma=cdens_err)\n",
    "# Print results obtained from fit\n",
    "err2 = np.sqrt(np.diag(ml_cfcovar2))\n",
    "\n",
    "print(\"N_0    = \" + str(ml_cfpars2[0]) + \" +/- \" + str(err2[0]))\n",
    "print(\"Gamma  = \" + str(ml_cfpars2[1]) + \" +/- \" + str(err2[1]))\n",
    "print(\"E_cut  = \" + str(ml_cfpars2[2]) + \" +/- \" + str(err2[2]))\n",
    "print(\"N_tot  = \" + str(ml_cfpars2[3]) + \" +/- \" + str(err2[3]))\n",
    "print(\"E_cent = \" + str(ml_cfpars2[4]) + \" +/- \" + str(err2[4]))\n",
    "\n",
    "minchisq2 = np.sum(((cdens - model_int_cf2(energies, edges2, model2, *ml_cfpars2))/cdens_err)**2.)\n",
    "\n",
    "print(\"Minimum Chi-squared = \" + str(minchisq2) + \" for \" + str(len(cdens)-len(p02)) + \" d.o.f.\")\n",
    "print(\"The goodness of fit is: \" + str(sps.chi2.sf(minchisq2,df=(len(cdens)-len(p02)))))\n",
    "\n",
    "# Return the model y-values for model with parameters equal to the MLEs\n",
    "best_model2 = model_int_cf2(energies, edges2, model2, *ml_cfpars2)\n",
    "# Now plot the data and model and residuals\n",
    "plot_spec_model(edges2, cdens, cdens_err, best_model2)"
   ]
  },
  {
   "cell_type": "markdown",
   "id": "6ae9a280",
   "metadata": {},
   "source": [
    "*Conclusions:* The addition of the gaussian feature significantly improves the fit. Firstly, the minimum $\\chi^2$ value is less than half that of the previous one, accompanied by a much lower p-value. In order to test the significance of this improvement, we apply Wilks' theorem.\n",
    "\n",
    "$\\Delta\\chi^2=60.7806467770-25.8841793588=34.8964674182$\n",
    "\n",
    "The number of added parameters is not two, as the line energy is not a nestable model parameter, since the likelyhood does not smoothly change if we change the position of such a sharp feature. Hence we set the d.o.f. to 1. "
   ]
  },
  {
   "cell_type": "code",
   "execution_count": 20,
   "id": "7cbcafd4",
   "metadata": {
    "scrolled": true
   },
   "outputs": [
    {
     "name": "stdout",
     "output_type": "stream",
     "text": [
      "p-value for our delta-chi-squared:  3.4771116549995527e-09\n"
     ]
    }
   ],
   "source": [
    "print(\"p-value for our delta-chi-squared: \",sps.chi2.sf(34.8964674182,df=1))"
   ]
  },
  {
   "cell_type": "markdown",
   "id": "6766dd3b",
   "metadata": {},
   "source": [
    "The p-value obtained is extremely significant. But, since we did not expect to find an energy line there before seeing the data, we still have to apply the Bonferroni correction. \n",
    "\n",
    "$p(x=0|n=20,\\theta=p)=(1-3.4771116549995527*10^{-9})^{20} \\approx 1$\n",
    "\n",
    "Thus we conclude that the emission feature at ~80GeV is very significant, as the chance of seeing it if it were not there is $1-p\\approx0$.\n",
    "\n",
    "*Niek: how did you arrive at 20 for the number of trials? Also, even though $p\\approx0$, you can still quite easily find a value (there is a difference between p=1e-7 and 1e-100, despite the fact that both are small p-values).*"
   ]
  },
  {
   "cell_type": "markdown",
   "id": "f38495cf",
   "metadata": {},
   "source": [
    "#### c)\n",
    "\n",
    "*Approach:* Create a model that contains the power law background with two gaussian emission features. The position of the second emission, predicted by Prof. Petra Biggs, should be fixed at 144GeV. After this, perform a 1d $\\chi^2$ grid minimization of the line flux, to find the upper bound to 3-$\\sigma$ level."
   ]
  },
  {
   "cell_type": "code",
   "execution_count": 21,
   "id": "ebb30e1e",
   "metadata": {},
   "outputs": [],
   "source": [
    "def double_gaussian_cutoff_pl(E_arr, *parm):\n",
    "    '''Cut-off power law model with two additional gaussian peak'''\n",
    "    parm = parm[0]\n",
    "    N_0     = parm[0]\n",
    "    Gamma   = parm[1]\n",
    "    E_cut   = parm[2]\n",
    "    N_tot1  = parm[3]\n",
    "    E_cent1 = parm[4]\n",
    "    N_tot2  = parm[5]\n",
    "    E_cent2 = parm[6]\n",
    "    sigma2  = parm[7]\n",
    "    \n",
    "    sigma  = 1.3 # sigma fixed for the detector\n",
    "    N_gauss1 = N_tot1/(sigma*np.sqrt(2*np.pi))*np.exp(-0.5*(E_arr-E_cent1)**2/(sigma)**2)\n",
    "    N_gauss2 = N_tot2/(sigma*np.sqrt(2*np.pi))*np.exp(-0.5*(E_arr-E_cent2)**2/(sigma2)**2)\n",
    "    N_cont = N_0*E_arr**(-Gamma)*np.exp(-E_arr/E_cut)\n",
    "\n",
    "    return N_cont + N_gauss1 + N_gauss2"
   ]
  },
  {
   "cell_type": "code",
   "execution_count": 22,
   "id": "67a256db",
   "metadata": {},
   "outputs": [],
   "source": [
    "def grid1d_chisqmin_cfint(a_index,a_range,a_steps,parm,model,xval,yval,dy,xedges):\n",
    "    '''Finds best the fit and then carries out chisq minimisation for a 1D grid of fixed parameters.\n",
    "       Input: \n",
    "            a_index - index of 'a' parameter (in input list parm) to use for grid.\n",
    "            a_range, a_steps - range (tuple or list) and number of steps for grid.\n",
    "            parm - parameter list for model to be fitted.\n",
    "            model - name of model function to be fitted.\n",
    "            xval, dyval, dy - data x, y and y-error arrays\n",
    "        Output: \n",
    "            a_best - best-fitting value for 'a'\n",
    "            minchisq - minimum chi-squared (for a_best)\n",
    "            a_grid - grid of 'a' values used to obtain fits\n",
    "            chisq_grid - grid of chi-squared values corresponding to a_grid'''\n",
    "    a_grid = np.linspace(a_range[0],a_range[1],a_steps)\n",
    "    chisq_grid = np.zeros(len(a_grid))\n",
    "    # First obtain best-fitting value for 'a' and corresponding chi-squared\n",
    "    ml_cfpars, ml_cfcovar = spopt.curve_fit(lambda xval, *parm: model_int_cf2(xval, xedges, \n",
    "                            model, parm), xval, yval, parm, sigma=dy)\n",
    "    \n",
    "    minchisq = np.sum(((yval-model_int_cf2(xval,xedges,model,*ml_cfpars))/dy)**2)\n",
    "    a_best = ml_cfpars[a_index]\n",
    "    # Now remove 'a' from the input parameter list, so this parameter may be frozen at the \n",
    "    # grid value for each fit\n",
    "    free_parm = np.delete(parm,a_index)\n",
    "    # Now fit for each 'a' in the grid, to do so we must use a lambda function to insert the fixed \n",
    "    # 'a' into the model function when it is called by curve_fit, so that curve_fit does not use \n",
    "    # 'a' as one of the free parameters so it remains at the fixed grid value in the fit.\n",
    "    for i, a_val in enumerate(a_grid):        \n",
    "        ml_cfpars, ml_cfcovar = spopt.curve_fit(lambda xval, *parm: model_int_cf2(xval, xedges, \n",
    "                            model, parm), xval, yval, parm, sigma=dy)        \n",
    "        chisq_grid[i] = np.sum(((yval-model_int_cf2(xval,xedges,model,\n",
    "                                                   *np.insert(ml_cfpars,a_index,a_val)))/dy)**2)\n",
    "        print(i+1,'steps: chisq =',chisq_grid[i],'for a =',a_val,' minimum = ',minchisq,' for a =',a_best)\n",
    "    return a_best, minchisq, a_grid, chisq_grid  \n",
    "\n",
    "def calc_upper_chisq(delchisq,minchisq,a_grid,chisq_grid):\n",
    "    '''Function to return upper values of a parameter 'a' for a given delta-chi-squared\n",
    "       Input:\n",
    "           delchisq - the delta-chi-squared for the confidence interval required (e.g. 1 for 1-sigma error)\n",
    "           a_grid, chisq_grid - grid of 'a' and corresponding chi-squared values used for interpolation'''\n",
    "    # First interpolate over the grid for values > a_best and find upper interval bound\n",
    "    chisq_interp_upper = spinterp.interp1d(chisq_grid,a_grid)\n",
    "    a_upper = chisq_interp_upper(minchisq+delchisq)\n",
    "    return a_upper"
   ]
  },
  {
   "cell_type": "code",
   "execution_count": 23,
   "id": "7f8a9454",
   "metadata": {},
   "outputs": [],
   "source": [
    "def model_int_cf2(ecent, ebins, model, *parm):\n",
    "    '''General function for integrating the input model over energy bins ebins within curve_fit.\n",
    "       Inputs:\n",
    "           ecent - energy bin centres, dummy array with length len(ebins)-1 to fool curve_fit into \n",
    "                   accepting the function as the correct format for curve_fit.\n",
    "           ebins - energy bin edges.\n",
    "           model, parm - the curve_fit model name and input parameter list.\n",
    "       Outputs:\n",
    "           ymod - calculated counts-density model values for y-axis.'''\n",
    "    i = 0\n",
    "    ymod = np.zeros(len(ecent))\n",
    "    for energy in ebins[:-1]:\n",
    "        ymod[i], ymoderr = spint.quad(lambda x: model(x, parm),ebins[i],ebins[i+1])\n",
    "        ymod[i] = ymod[i]/(ebins[i+1]-ebins[i])  # we now divide by the bin width to match the counts density\n",
    "        # units of our data\n",
    "        i=i+1\n",
    "    return ymod"
   ]
  },
  {
   "cell_type": "code",
   "execution_count": 24,
   "id": "86f73fc4",
   "metadata": {},
   "outputs": [
    {
     "name": "stderr",
     "output_type": "stream",
     "text": [
      "/home/skikk/anaconda3/lib/python3.8/site-packages/scipy/optimize/minpack.py:833: OptimizeWarning: Covariance of the parameters could not be estimated\n",
      "  warnings.warn('Covariance of the parameters could not be estimated',\n"
     ]
    },
    {
     "name": "stdout",
     "output_type": "stream",
     "text": [
      "1 steps: chisq = 30.28424997317931 for a = 0.0  minimum =  29.67682276212801  for a = -8.508040379813336\n",
      "2 steps: chisq = 30.6220501880628 for a = 2.1052631578947367  minimum =  29.67682276212801  for a = -8.508040379813336\n",
      "3 steps: chisq = 31.03423411756926 for a = 4.2105263157894735  minimum =  29.67682276212801  for a = -8.508040379813336\n",
      "4 steps: chisq = 31.520801761698696 for a = 6.315789473684211  minimum =  29.67682276212801  for a = -8.508040379813336\n",
      "5 steps: chisq = 32.0817531204511 for a = 8.421052631578947  minimum =  29.67682276212801  for a = -8.508040379813336\n",
      "6 steps: chisq = 32.717088193826484 for a = 10.526315789473683  minimum =  29.67682276212801  for a = -8.508040379813336\n",
      "7 steps: chisq = 33.426806981824825 for a = 12.631578947368421  minimum =  29.67682276212801  for a = -8.508040379813336\n",
      "8 steps: chisq = 34.210909484446155 for a = 14.736842105263158  minimum =  29.67682276212801  for a = -8.508040379813336\n",
      "9 steps: chisq = 35.069395701690446 for a = 16.842105263157894  minimum =  29.67682276212801  for a = -8.508040379813336\n",
      "10 steps: chisq = 36.00226563355772 for a = 18.94736842105263  minimum =  29.67682276212801  for a = -8.508040379813336\n",
      "11 steps: chisq = 37.00951928004794 for a = 21.052631578947366  minimum =  29.67682276212801  for a = -8.508040379813336\n",
      "12 steps: chisq = 38.09115664116117 for a = 23.157894736842103  minimum =  29.67682276212801  for a = -8.508040379813336\n",
      "13 steps: chisq = 39.24717771689734 for a = 25.263157894736842  minimum =  29.67682276212801  for a = -8.508040379813336\n",
      "14 steps: chisq = 40.47758250725651 for a = 27.36842105263158  minimum =  29.67682276212801  for a = -8.508040379813336\n",
      "15 steps: chisq = 41.782371012238656 for a = 29.473684210526315  minimum =  29.67682276212801  for a = -8.508040379813336\n",
      "16 steps: chisq = 43.16154323184375 for a = 31.57894736842105  minimum =  29.67682276212801  for a = -8.508040379813336\n",
      "17 steps: chisq = 44.61509916607181 for a = 33.68421052631579  minimum =  29.67682276212801  for a = -8.508040379813336\n",
      "18 steps: chisq = 46.14303881492286 for a = 35.78947368421053  minimum =  29.67682276212801  for a = -8.508040379813336\n",
      "19 steps: chisq = 47.74536217839687 for a = 37.89473684210526  minimum =  29.67682276212801  for a = -8.508040379813336\n",
      "20 steps: chisq = 49.42206925649384 for a = 40.0  minimum =  29.67682276212801  for a = -8.508040379813336\n",
      "3-sigma upper limit on line flux:  24.224468117879674\n"
     ]
    }
   ],
   "source": [
    "# Give the fixed parameters and define a new function to hide them from curve_fit:\n",
    "fixed_en = 144.\n",
    "fixed_sig = 1.3\n",
    "new_model = lambda x, parm: double_gaussian_cutoff_pl(x,np.insert(np.insert(parm,6,fixed_en),7,fixed_sig))\n",
    "# new_model = lambda x, parm: double_gaussian_cutoff_pl(x,np.insert(parm,6,fixed_en))\n",
    "\n",
    "\n",
    "# Below is the parameter list which curve_fit will see initially, with PL norm, \n",
    "# PL index and Gaussian line normalisation.\n",
    "parm = [40700., 1.28, 119., 155.77, 82.06, 100., 144.]\n",
    "# Now we select the parameter to step through and give the range and number of steps:\n",
    "a_index = 5\n",
    "par_range = [0,40]\n",
    "n_steps = 20\n",
    "# Run the grid calculation\n",
    "a_best, minchisq, a_grid, chisq_grid = grid1d_chisqmin_cfint(a_index,par_range,n_steps,parm,new_model,\n",
    "                             energies,cdens,cdens_err,edges2)\n",
    "\n",
    "# Now give the output\n",
    "delchisq = 9 #3-sigma corresponds to a delta-chisq of 9\n",
    "a_upper = calc_upper_chisq(delchisq,minchisq,a_grid,chisq_grid)\n",
    "print(\"3-sigma upper limit on line flux: \", a_upper)"
   ]
  },
  {
   "cell_type": "code",
   "execution_count": 25,
   "id": "a1bd27e2",
   "metadata": {
    "scrolled": true
   },
   "outputs": [
    {
     "data": {
      "image/png": "[encoded data removed]",
      "text/plain": [
       "<Figure size 432x288 with 1 Axes>"
      ]
     },
     "metadata": {
      "needs_background": "light"
     },
     "output_type": "display_data"
    }
   ],
   "source": [
    "plt.plot(a_grid, chisq_grid-minchisq, label='$\\Delta\\chi^2$')\n",
    "plt.ylabel('$\\Delta\\chi^2$')\n",
    "plt.xlabel('Line flux')\n",
    "plt.hlines(9, 0, 40, 'r', linewidth=0.5, label='$3\\sigma$ level')\n",
    "plt.vlines(a_upper, 0, 20, 'g', linewidth=0.5, label='Upper limit')\n",
    "plt.legend()\n",
    "plt.show()"
   ]
  },
  {
   "cell_type": "markdown",
   "id": "ebcca38e",
   "metadata": {},
   "source": [
    "*Conclusion:* Here we see that the 3-$\\sigma$ upper boundary on the line flux is at 24.22. Also interesting to note, although not tested for, the minimum $\\chi^2$ value is located at a negative line flux, which would correspond to an absorption line, instead of an emission line.\n",
    "\n",
    "*Niek: interesting that the best fit returns a negative normalization, good to mention that. What is the meaning of this upper limit?*"
   ]
  },
  {
   "cell_type": "raw",
   "id": "85aca7cd",
   "metadata": {},
   "source": []
  }
 ],
 "metadata": {
  "kernelspec": {
   "display_name": "Python 3 (ipykernel)",
   "language": "python",
   "name": "python3"
  },
  "language_info": {
   "codemirror_mode": {
    "name": "ipython",
    "version": 3
   },
   "file_extension": ".py",
   "mimetype": "text/x-python",
   "name": "python",
   "nbconvert_exporter": "python",
   "pygments_lexer": "ipython3",
   "version": "3.8.12"
  }
 },
 "nbformat": 4,
 "nbformat_minor": 5
}
